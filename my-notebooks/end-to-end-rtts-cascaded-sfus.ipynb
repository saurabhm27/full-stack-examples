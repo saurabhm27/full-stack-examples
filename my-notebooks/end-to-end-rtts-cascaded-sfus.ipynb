{
 "cells": [
  {
   "cell_type": "markdown",
   "id": "5d94e0ef",
   "metadata": {},
   "source": [
    "## Calls"
   ]
  },
  {
   "cell_type": "code",
   "execution_count": 1,
   "id": "500e9ea2",
   "metadata": {
    "tags": []
   },
   "outputs": [
    {
     "name": "stdout",
     "output_type": "stream",
     "text": [
      "\n",
      "Room: Pyongyang\n",
      "--------\n",
      "\n",
      "Call 9236312f-2697-41e4-82d4-3ff43fd404e8\n",
      "\n",
      "\tUserId: Dumbledore \n",
      "\tClientId: 8b2a6420-b596-4005-aabf-e849a992502d\n",
      "\tJoined: 1657197987140\n",
      "\tLeft: 1657197993061\n",
      "\tDuration: 0 min\n",
      "\n",
      "\tUserId: Fleur Delacour \n",
      "\tClientId: 806b77ce-a81c-4e05-9b50-956ec618d442\n",
      "\tJoined: 1657197994033\n",
      "\tLeft: 1657197998063\n",
      "\tDuration: 0 min\n",
      "\n",
      "Room: Kabul\n",
      "--------\n",
      "\n",
      "Call cf400eb5-d979-4441-a056-b7e98e64d9f3\n",
      "\n",
      "\tUserId: McGonagall \n",
      "\tClientId: c2a49398-efb0-4ebe-b97f-b96b58aede93\n",
      "\tJoined: 1657199265848\n",
      "\tLeft: 1657204468216\n",
      "\tDuration: 86 min\n",
      "\n",
      "\tUserId: Snape \n",
      "\tClientId: 3b26fb8c-80c6-4910-8f78-ddea858d6a59\n",
      "\tJoined: 1657199277467\n",
      "\tLeft: 1657204468216\n",
      "\tDuration: 86 min\n",
      "\n",
      "Room: Cairo\n",
      "--------\n",
      "\n",
      "Call 85987ce6-817d-4831-bb48-6e8f4762fed9\n",
      "\n",
      "\tUserId: Ron Weasely \n",
      "\tClientId: 1aece275-7992-4d0d-9537-3791f29d61b2\n",
      "\tJoined: 1657204303021\n",
      "\tLeft: 1657204468216\n",
      "\tDuration: 2 min\n",
      "\n",
      "\tUserId: Ginny \n",
      "\tClientId: 468c9502-619f-48de-a89a-5043d6f6a08d\n",
      "\tJoined: 1657204320108\n",
      "\tLeft: 1657204468216\n",
      "\tDuration: 2 min\n",
      "\n",
      "Room: Caracas\n",
      "--------\n",
      "\n",
      "Call 635e0c58-b6da-4f9d-b3c2-ff6fe458df60\n",
      "\n",
      "\tUserId: Moaning Myrtle \n",
      "\tClientId: 50c62bc3-7c52-4af2-b271-1352fac03f65\n",
      "\tJoined: 1657204356211\n",
      "\tLeft: 1657204468217\n",
      "\tDuration: 1 min\n",
      "\n",
      "\tUserId: James Potter \n",
      "\tClientId: b314af08-642c-4896-af4b-6bd9ce530038\n",
      "\tJoined: 1657204361515\n",
      "\tLeft: 1657204468217\n",
      "\tDuration: 1 min\n"
     ]
    }
   ],
   "source": [
    "from pymongo import MongoClient\n",
    "\n",
    "import time\n",
    "\n",
    "# if jupyter runs on no1010042068022.corp.adobe.com\n",
    "# MONGO_HOST=\"no1010042068022.corp.adobe.com\"\n",
    "\n",
    "# if jupyter runs in docker\n",
    "MONGO_HOST=\"host.docker.internal\"\n",
    "\n",
    "MONGO_USER=\"root\"\n",
    "MONGO_PASSWORD=\"password\"\n",
    "MONGO_PORT=27017\n",
    "\n",
    "address = 'mongodb://{user}:{password}@{host}:{port}'.format(\n",
    "    user= MONGO_USER,\n",
    "    password= MONGO_PASSWORD,\n",
    "    host= MONGO_HOST,\n",
    "    port= MONGO_PORT,\n",
    ")\n",
    "\n",
    "client = MongoClient(address)\n",
    "database=client[\"observertc-reports\"]\n",
    "\n",
    "# the collection we want to query\n",
    "reportsDatabase = database.reports\n",
    "\n",
    "# print('connected to %s' % address)\n",
    "\n",
    "cursor = reportsDatabase.find( { \"type\": \"CALL_EVENT\", \"payload.name\": { \"$in\": [\"CLIENT_JOINED\", \"CLIENT_LEFT\"] } } )\n",
    "\n",
    "rooms = {}\n",
    "for record in cursor:\n",
    "    callEvent = record[\"payload\"]\n",
    "\n",
    "    roomId = callEvent[\"roomId\"]\n",
    "    callId = callEvent[\"callId\"]\n",
    "    userId = callEvent['userId']\n",
    "    clientId = callEvent['clientId']\n",
    "    timestamp = callEvent['timestamp']\n",
    "\n",
    "    calls = rooms.get(roomId, {})\n",
    "    clients = calls.get(callId, {})\n",
    "    client = clients.get(clientId, {\n",
    "        \"clientId\": clientId,\n",
    "        \"userId\": userId,\n",
    "        \"callId\": callId,\n",
    "        \"roomId\": roomId,\n",
    "    })\n",
    "    \n",
    "    if callEvent[\"name\"] == \"CLIENT_JOINED\":\n",
    "        client.update({ \"joined\": timestamp })\n",
    "    else:\n",
    "        client.update({ \"left\": timestamp })\n",
    "    \n",
    "    clients[clientId] = client\n",
    "    calls[callId] = clients\n",
    "    rooms[roomId] = calls\n",
    "\n",
    "for room in rooms.items():\n",
    "    roomId, calls = room\n",
    "    print('\\nRoom: %s\\n--------' % roomId)\n",
    "    for call in calls.items():\n",
    "        callId, clients = call\n",
    "        print('\\nCall %s' % callId)\n",
    "        for client in clients.values():\n",
    "            userId, clientId, joined = client[\"userId\"], client[\"clientId\"], client[\"joined\"]\n",
    "            left = client.get(\"left\", int(time.time() * 1000))\n",
    "            duration = (left - joined) / (60 * 1000)\n",
    "            print('\\n\\tUserId: %s \\n\\tClientId: %s\\n\\tJoined: %d\\n\\tLeft: %d\\n\\tDuration: %d min' % \n",
    "                  (userId, clientId, joined, left, duration))"
   ]
  },
  {
   "cell_type": "markdown",
   "id": "f095b170",
   "metadata": {},
   "source": [
    "## Select the call and the client we want to plot the end-to-end RTTs"
   ]
  },
  {
   "cell_type": "code",
   "execution_count": 2,
   "id": "d968cc3c",
   "metadata": {},
   "outputs": [
    {
     "name": "stdout",
     "output_type": "stream",
     "text": [
      "selected call: 635e0c58-b6da-4f9d-b3c2-ff6fe458df60 sleected client: 50c62bc3-7c52-4af2-b271-1352fac03f65\n"
     ]
    }
   ],
   "source": [
    "CALL_ID = \"635e0c58-b6da-4f9d-b3c2-ff6fe458df60\"\n",
    "CLIENT_ID = \"50c62bc3-7c52-4af2-b271-1352fac03f65\"\n",
    "\n",
    "print(\"selected call:\", CALL_ID, \"sleected client:\", CLIENT_ID)\n",
    "\n"
   ]
  },
  {
   "cell_type": "markdown",
   "id": "61922612",
   "metadata": {},
   "source": [
    "### Collect peer connections RTT measurements"
   ]
  },
  {
   "cell_type": "code",
   "execution_count": 3,
   "id": "2cc2def7",
   "metadata": {},
   "outputs": [
    {
     "name": "stdout",
     "output_type": "stream",
     "text": [
      "Number of measurements to analyze on 2016e451-262d-4714-aea3-fe512d77aca7: 26\n",
      "Number of measurements to analyze on c779e802-539d-4dfd-9176-127f354d9827: 26\n"
     ]
    }
   ],
   "source": [
    "peer_connection_rtts = {}\n",
    "\n",
    "stage_match = {\n",
    "    \"$match\": {\n",
    "        \"$or\": [{ \"type\": \"OUTBOUND_VIDEO_TRACK\" }, { \"type\": \"OUTBOUND_AUDIO_TRACK\" }], \n",
    "        \"payload.callId\": CALL_ID,\n",
    "   }\n",
    "}\n",
    "\n",
    "pipeline = [\n",
    "   stage_match, \n",
    "]\n",
    "\n",
    "cursor = reportsDatabase.aggregate(pipeline)\n",
    "for report in cursor:\n",
    "    payload = report[\"payload\"]\n",
    "    peerconnection_id = payload[\"peerConnectionId\"]\n",
    "    rtt_in_s = payload[\"roundTripTime\"]\n",
    "    timestamp = payload[\"timestamp\"]\n",
    "    \n",
    "    measurements = peer_connection_rtts.get(peerconnection_id, [])\n",
    "    measurement = (rtt_in_s, timestamp)\n",
    "    measurements.append(measurement)\n",
    "    peer_connection_rtts[peerconnection_id] = measurements\n",
    "    \n",
    "# data check\n",
    "for peerconnection_id in peer_connection_rtts:\n",
    "    print(\"Number of measurements to analyze on %s: %s\" % (peerconnection_id, len(peer_connection_rtts[peerconnection_id])))\n",
    " "
   ]
  },
  {
   "cell_type": "markdown",
   "id": "8cdd3c24",
   "metadata": {},
   "source": [
    "### Collect Client peer connections"
   ]
  },
  {
   "cell_type": "code",
   "execution_count": 4,
   "id": "b6300cc0",
   "metadata": {},
   "outputs": [
    {
     "name": "stdout",
     "output_type": "stream",
     "text": [
      "client_id:b314af08-642c-4896-af4b-6bd9ce530038  maps to the following remote_peer_ids: {'b314af08-642c-4896-af4b-6bd9ce530038': '2016e451-262d-4714-aea3-fe512d77aca7', '50c62bc3-7c52-4af2-b271-1352fac03f65': 'c779e802-539d-4dfd-9176-127f354d9827'}\n",
      "client_id:50c62bc3-7c52-4af2-b271-1352fac03f65  maps to the following remote_peer_ids: {'b314af08-642c-4896-af4b-6bd9ce530038': '2016e451-262d-4714-aea3-fe512d77aca7', '50c62bc3-7c52-4af2-b271-1352fac03f65': 'c779e802-539d-4dfd-9176-127f354d9827'}\n"
     ]
    }
   ],
   "source": [
    "# map client ids to its peer connections subscribed to receive inbound tracks\n",
    "client_inb_pc_ids = {}\n",
    "\n",
    "# peer connections to its remote peer connections and clients\n",
    "inb_pc_outb_pairs = {}\n",
    "\n",
    "# have an inner map for every client map remote client to the peer connection sending outbound tracks\n",
    "client_outb_pc_pairs = {}\n",
    "\n",
    "# the sfu map of sink id to stream id the selected client uses to \n",
    "# receive RTP sessions from the SFU it is connected to.\n",
    "sfu_sink_to_stream_ids = {}\n",
    "\n",
    "# pc to to sfu sink ids\n",
    "pc_to_sfu_sink_ids = {}\n",
    "\n",
    "stage_match = {\n",
    "    \"$match\": {\n",
    "        \"$or\": [{ \"type\": \"INBOUND_VIDEO_TRACK\" }, { \"type\": \"INBOUND_AUDIO_TRACK\" }],\n",
    "        \"payload.callId\": CALL_ID,\n",
    "   }\n",
    "}\n",
    "pipeline = [\n",
    "   stage_match,\n",
    "]\n",
    "\n",
    "cursor = reportsDatabase.aggregate(pipeline)\n",
    "for report in cursor:\n",
    "    payload = report[\"payload\"]\n",
    "    client_id = payload[\"clientId\"]\n",
    "    client_peerconnection_id = payload[\"peerConnectionId\"]\n",
    "    sfu_sink_id = payload[\"sfuSinkId\"]\n",
    "    sfu_stream_id = payload[\"sfuStreamId\"]\n",
    "    remote_client_id = payload[\"remoteClientId\"]\n",
    "    remote_client_peerconnection_id = payload[\"remotePeerConnectionId\"]\n",
    "\n",
    "    sfu_sink_to_stream_ids[sfu_sink_id] = sfu_stream_id\n",
    "    \n",
    "    if client_peerconnection_id is None:\n",
    "        continue\n",
    "    \n",
    "    sfu_sink_ids = pc_to_sfu_sink_ids.get(client_peerconnection_id, set())\n",
    "    sfu_sink_ids.add(sfu_sink_id)\n",
    "    pc_to_sfu_sink_ids[client_peerconnection_id] = sfu_sink_ids\n",
    "    \n",
    "    inb_pc_ids = client_inb_pc_ids.get(client_id, set())\n",
    "    inb_pc_ids.add(client_peerconnection_id)\n",
    "    client_inb_pc_ids[client_id] = inb_pc_ids\n",
    "\n",
    "    if remote_client_id is not None and remote_client_peerconnection_id is not None:\n",
    "        inb_pc_outb_pairs[client_peerconnection_id] = (remote_client_peerconnection_id, remote_client_id)\n",
    "\n",
    "        client_remote_peers = client_outb_pc_pairs.get(remote_client_id, {})\n",
    "        client_remote_peers[client_id] = remote_client_peerconnection_id\n",
    "        client_outb_pc_pairs[client_id] = client_remote_peers\n",
    "\n",
    "# data check\n",
    "for client_id in client_outb_pc_pairs:\n",
    "    print(\"client_id:%s  maps to the following remote_peer_ids: %s\" % (client_id, client_outb_pc_pairs[client_id]))\n"
   ]
  },
  {
   "cell_type": "markdown",
   "id": "8d310fa1",
   "metadata": {},
   "source": [
    "### Collect SFU Transport RTT measurements"
   ]
  },
  {
   "cell_type": "code",
   "execution_count": 5,
   "id": "0daf8f4f",
   "metadata": {},
   "outputs": [],
   "source": [
    "sfu_sink_to_stream_ids\n",
    "sfu_sink_ids = list(sfu_sink_to_stream_ids.keys())\n",
    "sfu_stream_ids = list(sfu_sink_to_stream_ids.values())"
   ]
  },
  {
   "cell_type": "code",
   "execution_count": 7,
   "id": "816ac058",
   "metadata": {},
   "outputs": [
    {
     "name": "stdout",
     "output_type": "stream",
     "text": [
      "mapping transport ids to sfu ids: {'6254261b-2098-43b6-a5ec-573486cba05b': '1124de3b-fc2d-430f-87bd-5bfc8098fcab', '3d9ca887-1004-4537-8632-bd781de03a89': 'ab9a5927-e9b9-463e-b6f7-4ca2b8e5955b'}\n",
      "mapping sfu sinks to sfus: {'03368097-9976-4ccc-9094-34191784b4a5': '9aa7bc11-cbc0-490d-aa70-e7bea8d83041', '63856c04-9c2f-4c90-9ee2-9f577dafffad': '9aa7bc11-cbc0-490d-aa70-e7bea8d83041', 'd7fd8e69-9e50-436a-89e4-37686652a17e': '9aa7bc11-cbc0-490d-aa70-e7bea8d83041', '424139ab-4783-4606-b484-58f9fd49b95b': '9aa7bc11-cbc0-490d-aa70-e7bea8d83041', '651dc19b-06ff-464f-a184-869a2c6c11f7': '1124de3b-fc2d-430f-87bd-5bfc8098fcab', '7dd79e91-dd38-486d-8971-fe48eb39a11d': '1124de3b-fc2d-430f-87bd-5bfc8098fcab', 'c7aece50-6c74-4e9f-a453-1b9c6c677c17': 'ab9a5927-e9b9-463e-b6f7-4ca2b8e5955b', '5009078b-6d5f-42e7-a1e1-8aec6bca170f': 'ab9a5927-e9b9-463e-b6f7-4ca2b8e5955b'}\n"
     ]
    }
   ],
   "source": [
    "sfu_sink_to_sfu = {}\n",
    "sfu_transport_rtts = {}\n",
    "transports_to_sfu = {}\n",
    "\n",
    "stage_match = {\n",
    "    \"$match\": {\n",
    "        \"type\": \"SFU_OUTBOUND_RTP_PAD\", \n",
    "#         \"payload.sfuStreamId\": { \"$in\": sfu_stream_ids},\n",
    "#         \"payload.sfuSinkId\": { \"$in\": list(sfu_sink_to_stream_ids.keys())},\n",
    "#         \"payload.internal\": True,\n",
    "   }\n",
    "}\n",
    "\n",
    "pipeline = [\n",
    "   stage_match, \n",
    "]\n",
    "\n",
    "cursor = reportsDatabase.aggregate(pipeline)\n",
    "for report in cursor:\n",
    "    payload = report[\"payload\"]\n",
    "    sfu_id = payload[\"sfuId\"]\n",
    "    sfu_sink_id = payload[\"sfuSinkId\"]\n",
    "    sfu_transport_id = payload[\"transportId\"]\n",
    "    rtt_in_ms = payload[\"roundTripTime\"]\n",
    "    timestamp = payload[\"timestamp\"]\n",
    "    internal = payload[\"internal\"]\n",
    "\n",
    "    if rtt_in_ms is None:\n",
    "        continue\n",
    "        \n",
    "    if internal is None or internal is False:\n",
    "        sfu_sink_to_sfu[sfu_sink_id] = sfu_id\n",
    "        continue\n",
    "    \n",
    "    transports_to_sfu[sfu_transport_id] = sfu_id\n",
    "    \n",
    "    measurements = sfu_transport_rtts.get(sfu_transport_id, [])\n",
    "    measurement = (rtt_in_ms / 1000, timestamp)\n",
    "    measurements.append(measurement)\n",
    "    sfu_transport_rtts[sfu_transport_id] = measurements\n",
    "    \n",
    "print(\"mapping transport ids to sfu ids:\", transports_to_sfu)\n",
    "print(\"mapping sfu sinks to sfus:\", sfu_sink_to_sfu)\n"
   ]
  },
  {
   "cell_type": "markdown",
   "id": "21b46c19",
   "metadata": {},
   "source": [
    "### Collect SFU transports"
   ]
  },
  {
   "cell_type": "code",
   "execution_count": 9,
   "id": "728999a4",
   "metadata": {},
   "outputs": [
    {
     "name": "stdout",
     "output_type": "stream",
     "text": [
      "internal transport mappings: {'6254261b-2098-43b6-a5ec-573486cba05b': '3d9ca887-1004-4537-8632-bd781de03a89', '3d9ca887-1004-4537-8632-bd781de03a89': '6254261b-2098-43b6-a5ec-573486cba05b'}\n"
     ]
    }
   ],
   "source": [
    "transport_pairs = {}\n",
    "\n",
    "stage_match = {\n",
    "    \"$match\": {\n",
    "        \"type\": \"SFU_INBOUND_RTP_PAD\",\n",
    "        \"payload.sfuStreamId\": { \"$in\": sfu_stream_ids },\n",
    "        \"payload.internal\": True,\n",
    "   }\n",
    "}\n",
    "pipeline = [\n",
    "   stage_match,\n",
    "]\n",
    "\n",
    "cursor = reportsDatabase.aggregate(pipeline)\n",
    "for report in cursor:\n",
    "    internal = payload[\"internal\"]\n",
    "    payload = report[\"payload\"]\n",
    "    sfu_id = payload[\"sfuId\"]\n",
    "    sfu_transport_id = payload[\"transportId\"]\n",
    "    remote_sfu_transport_id = payload[\"remoteTransportId\"]\n",
    "    \n",
    "    \n",
    "    if remote_sfu_transport_id is not None:\n",
    "        transport_pairs[sfu_transport_id] = remote_sfu_transport_id\n",
    "    \n",
    "print(\"internal transport mappings:\", transport_pairs)"
   ]
  },
  {
   "cell_type": "code",
   "execution_count": null,
   "id": "b8e4a387",
   "metadata": {},
   "outputs": [],
   "source": []
  },
  {
   "cell_type": "markdown",
   "id": "d41e6c83",
   "metadata": {},
   "source": [
    "### Calculate Client end-to-end RTTs"
   ]
  },
  {
   "cell_type": "code",
   "execution_count": 10,
   "id": "d34bb316",
   "metadata": {},
   "outputs": [],
   "source": [
    "client_to_client_rtts = {}\n",
    "\n",
    "for client_inb_pc_id in client_inb_pc_ids[CLIENT_ID]:\n",
    "    \n",
    "    remote_pc_id, remote_client_id = inb_pc_outb_pairs[client_inb_pc_id]\n",
    "    remote_measurements = peer_connection_rtts[remote_pc_id]\n",
    "\n",
    "    remote_client_peers = client_outb_pc_pairs[remote_client_id]\n",
    "    client_outb_pc_id = remote_client_peers[CLIENT_ID]\n",
    "    local_measurements = peer_connection_rtts[client_outb_pc_id]\n",
    "    \n",
    "    sfu_sink_ids = pc_to_sfu_sink_ids[client_inb_pc_id]\n",
    "    sfu_id = None\n",
    "    for it_sink_id, it_sfu_id in sfu_sink_to_sfu.items():\n",
    "        if it_sink_id in sfu_sink_ids:\n",
    "            sfu_id = it_sfu_id\n",
    "    if sfu_id is None:\n",
    "        raise Exception(\"No sfu id found for sfu sink\")\n",
    "    transport_id = None\n",
    "    for it_transport_id, it_sfu_id in transports_to_sfu.items():\n",
    "        if sfu_id == it_sfu_id:\n",
    "            transport_id = it_transport_id\n",
    "            break\n",
    "    if transport_id is None:\n",
    "        raise Exception(\"No sfu transport id found for sfu id\")\n",
    "        \n",
    "    transport_rtts = sfu_transport_rtts[transport_id]\n",
    "    \n",
    "    sorted_local_measurements = sorted(local_measurements, key=lambda x: x[1])\n",
    "    sorted_remote_measurements = sorted(remote_measurements, key=lambda x: x[1])\n",
    "    sorted_transport_rtts = sorted(transport_rtts, key=lambda x: x[1])\n",
    "    \n",
    "    i, j, k, loc_size, rem_size, tra_size = 0, 0, 0, \\\n",
    "        len(sorted_local_measurements), len(sorted_remote_measurements), len(sorted_transport_rtts)\n",
    "    end_to_end_rtts = []\n",
    "    timestamps = []\n",
    "    \n",
    "    while True:\n",
    "        if loc_size <= i or rem_size <= j or tra_size <= k:\n",
    "            break\n",
    "           \n",
    "        local_client_to_sfu_rtt, local_client_actual_ts = sorted_local_measurements[i]\n",
    "        remote_client_to_sfu_rtt, remote_client_actual_ts = sorted_remote_measurements[j]\n",
    "        sfu_to_sfu_rtt, sfu_ts = sorted_transport_rtts[k]\n",
    "\n",
    "        if  i + 1 < loc_size and ( \n",
    "              sorted_local_measurements[i + 1][1] < remote_client_actual_ts or \n",
    "              sorted_local_measurements[i + 1][1] < sfu_ts \n",
    "        ):\n",
    "            i = i + 1\n",
    "            continue\n",
    "        \n",
    "        if j + 1 < rem_size and (\n",
    "            sorted_remote_measurements[j + 1][1] < local_client_actual_ts or\n",
    "            sorted_remote_measurements[j + 1][1] < sfu_ts\n",
    "        ):\n",
    "            j = j + 1\n",
    "            continue\n",
    "        \n",
    "        if k + 1 < tra_size and (\n",
    "            sorted_transport_rtts[k + 1][1] < local_client_actual_ts or\n",
    "            sorted_transport_rtts[k + 1][1] < remote_client_actual_ts\n",
    "        ):\n",
    "            k = k + 1\n",
    "            continue\n",
    "            \n",
    "        end_to_end_rtt = local_client_to_sfu_rtt + remote_client_to_sfu_rtt + sfu_to_sfu_rtt\n",
    "        ts = max(local_client_actual_ts, remote_client_actual_ts, sfu_ts)\n",
    "        \n",
    "        end_to_end_rtts.append(end_to_end_rtt)\n",
    "        timestamps.append(ts)\n",
    "        \n",
    "        i = i + 1\n",
    "        j = j + 1\n",
    "        k = k + 1\n",
    "\n",
    "    client_to_client_rtts[remote_client_id] = (timestamps, end_to_end_rtts)"
   ]
  },
  {
   "cell_type": "code",
   "execution_count": 11,
   "id": "58a3fed1",
   "metadata": {},
   "outputs": [
    {
     "data": {
      "image/png": "[encoded data removed]",
      "text/plain": [
       "<Figure size 432x288 with 1 Axes>"
      ]
     },
     "metadata": {
      "needs_background": "light"
     },
     "output_type": "display_data"
    }
   ],
   "source": [
    "import matplotlib.pyplot as plt\n",
    "\n",
    "for remote_client_id, remote_client_rtts in client_to_client_rtts.items():\n",
    "    x, y = remote_client_rtts\n",
    "    fig, ax = plt.subplots()\n",
    "    \n",
    "    remote_client = clients[remote_client_id]\n",
    "    ax.set_title(\"end-to-end RTT between \" + remote_client_id + \" and \" + CLIENT_ID)\n",
    "    ax.step(x, y, linewidth=2.5)\n",
    "    ax.set_xlabel('timestamps')\n",
    "    ax.set_ylabel('RTT [s]')\n",
    "    plt.show()"
   ]
  },
  {
   "cell_type": "code",
   "execution_count": null,
   "id": "4e8b2eba",
   "metadata": {},
   "outputs": [],
   "source": []
  }
 ],
 "metadata": {
  "kernelspec": {
   "display_name": "Python 3 (ipykernel)",
   "language": "python",
   "name": "python3"
  },
  "language_info": {
   "codemirror_mode": {
    "name": "ipython",
    "version": 3
   },
   "file_extension": ".py",
   "mimetype": "text/x-python",
   "name": "python",
   "nbconvert_exporter": "python",
   "pygments_lexer": "ipython3",
   "version": "3.10.5"
  }
 },
 "nbformat": 4,
 "nbformat_minor": 5
}
